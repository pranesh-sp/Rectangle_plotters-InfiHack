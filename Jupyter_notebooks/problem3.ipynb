{
 "cells": [
  {
   "cell_type": "code",
   "execution_count": 127,
   "metadata": {},
   "outputs": [],
   "source": [
    "import pandas as pd\n",
    "df = pd.read_csv('E:\\\\SW-VLSI\\\\Input-Dataset\\\\tier_III\\\\3_dataset2.csv')"
   ]
  },
  {
   "cell_type": "code",
   "execution_count": 128,
   "metadata": {},
   "outputs": [
    {
     "data": {
      "text/html": [
       "<div>\n",
       "<style scoped>\n",
       "    .dataframe tbody tr th:only-of-type {\n",
       "        vertical-align: middle;\n",
       "    }\n",
       "\n",
       "    .dataframe tbody tr th {\n",
       "        vertical-align: top;\n",
       "    }\n",
       "\n",
       "    .dataframe thead th {\n",
       "        text-align: right;\n",
       "    }\n",
       "</style>\n",
       "<table border=\"1\" class=\"dataframe\">\n",
       "  <thead>\n",
       "    <tr style=\"text-align: right;\">\n",
       "      <th></th>\n",
       "      <th>Block_Type</th>\n",
       "      <th>Block_Count</th>\n",
       "      <th>Area_of_each_block (mm^2)</th>\n",
       "      <th>Dir (wrt entire design)</th>\n",
       "      <th>No_of_Edges</th>\n",
       "      <th>Group</th>\n",
       "    </tr>\n",
       "  </thead>\n",
       "  <tbody>\n",
       "    <tr>\n",
       "      <th>0</th>\n",
       "      <td>Block_A</td>\n",
       "      <td>2</td>\n",
       "      <td>5</td>\n",
       "      <td>Left</td>\n",
       "      <td>4</td>\n",
       "      <td>1</td>\n",
       "    </tr>\n",
       "    <tr>\n",
       "      <th>1</th>\n",
       "      <td>Block_B</td>\n",
       "      <td>1</td>\n",
       "      <td>3</td>\n",
       "      <td>Any</td>\n",
       "      <td>4</td>\n",
       "      <td>1</td>\n",
       "    </tr>\n",
       "    <tr>\n",
       "      <th>2</th>\n",
       "      <td>Block_C</td>\n",
       "      <td>3</td>\n",
       "      <td>9</td>\n",
       "      <td>Any</td>\n",
       "      <td>4</td>\n",
       "      <td>1</td>\n",
       "    </tr>\n",
       "    <tr>\n",
       "      <th>3</th>\n",
       "      <td>Block_D</td>\n",
       "      <td>1</td>\n",
       "      <td>4</td>\n",
       "      <td>Bottom</td>\n",
       "      <td>4</td>\n",
       "      <td>2</td>\n",
       "    </tr>\n",
       "    <tr>\n",
       "      <th>4</th>\n",
       "      <td>Block_E</td>\n",
       "      <td>3</td>\n",
       "      <td>6</td>\n",
       "      <td>Any</td>\n",
       "      <td>4</td>\n",
       "      <td>2</td>\n",
       "    </tr>\n",
       "    <tr>\n",
       "      <th>5</th>\n",
       "      <td>Block_F</td>\n",
       "      <td>1</td>\n",
       "      <td>5</td>\n",
       "      <td>Right</td>\n",
       "      <td>4</td>\n",
       "      <td>3</td>\n",
       "    </tr>\n",
       "  </tbody>\n",
       "</table>\n",
       "</div>"
      ],
      "text/plain": [
       "  Block_Type  Block_Count  Area_of_each_block (mm^2) Dir (wrt entire design)  \\\n",
       "0    Block_A            2                          5                    Left   \n",
       "1    Block_B            1                          3                     Any   \n",
       "2    Block_C            3                          9                     Any   \n",
       "3    Block_D            1                          4                  Bottom   \n",
       "4    Block_E            3                          6                     Any   \n",
       "5    Block_F            1                          5                   Right   \n",
       "\n",
       "   No_of_Edges  Group  \n",
       "0            4      1  \n",
       "1            4      1  \n",
       "2            4      1  \n",
       "3            4      2  \n",
       "4            4      2  \n",
       "5            4      3  "
      ]
     },
     "execution_count": 128,
     "metadata": {},
     "output_type": "execute_result"
    }
   ],
   "source": [
    "df"
   ]
  },
  {
   "cell_type": "code",
   "execution_count": 129,
   "metadata": {},
   "outputs": [],
   "source": [
    "try:\n",
    "    smtg = df['Dir (wrt entire design)']\n",
    "    s = 'Dir (wrt entire design)'\n",
    "except:\n",
    "    s = 'Dir (wrt design)'"
   ]
  },
  {
   "cell_type": "code",
   "execution_count": 130,
   "metadata": {},
   "outputs": [],
   "source": [
    "import math\n",
    "sq = math.sqrt(max(df[df[s]=='Any']['Area_of_each_block (mm^2)']))"
   ]
  },
  {
   "cell_type": "code",
   "execution_count": 131,
   "metadata": {},
   "outputs": [],
   "source": [
    "df.insert(6, \"Priority\", [0]*df.shape[0], True)"
   ]
  },
  {
   "cell_type": "code",
   "execution_count": 132,
   "metadata": {},
   "outputs": [
    {
     "data": {
      "text/html": [
       "<div>\n",
       "<style scoped>\n",
       "    .dataframe tbody tr th:only-of-type {\n",
       "        vertical-align: middle;\n",
       "    }\n",
       "\n",
       "    .dataframe tbody tr th {\n",
       "        vertical-align: top;\n",
       "    }\n",
       "\n",
       "    .dataframe thead th {\n",
       "        text-align: right;\n",
       "    }\n",
       "</style>\n",
       "<table border=\"1\" class=\"dataframe\">\n",
       "  <thead>\n",
       "    <tr style=\"text-align: right;\">\n",
       "      <th></th>\n",
       "      <th>Block_Type</th>\n",
       "      <th>Block_Count</th>\n",
       "      <th>Area_of_each_block (mm^2)</th>\n",
       "      <th>Dir (wrt entire design)</th>\n",
       "      <th>No_of_Edges</th>\n",
       "      <th>Group</th>\n",
       "      <th>Priority</th>\n",
       "    </tr>\n",
       "  </thead>\n",
       "  <tbody>\n",
       "    <tr>\n",
       "      <th>0</th>\n",
       "      <td>Block_A</td>\n",
       "      <td>2</td>\n",
       "      <td>5</td>\n",
       "      <td>Left</td>\n",
       "      <td>4</td>\n",
       "      <td>1</td>\n",
       "      <td>0</td>\n",
       "    </tr>\n",
       "    <tr>\n",
       "      <th>1</th>\n",
       "      <td>Block_B</td>\n",
       "      <td>1</td>\n",
       "      <td>3</td>\n",
       "      <td>Any</td>\n",
       "      <td>4</td>\n",
       "      <td>1</td>\n",
       "      <td>0</td>\n",
       "    </tr>\n",
       "    <tr>\n",
       "      <th>2</th>\n",
       "      <td>Block_C</td>\n",
       "      <td>3</td>\n",
       "      <td>9</td>\n",
       "      <td>Any</td>\n",
       "      <td>4</td>\n",
       "      <td>1</td>\n",
       "      <td>0</td>\n",
       "    </tr>\n",
       "    <tr>\n",
       "      <th>3</th>\n",
       "      <td>Block_D</td>\n",
       "      <td>1</td>\n",
       "      <td>4</td>\n",
       "      <td>Bottom</td>\n",
       "      <td>4</td>\n",
       "      <td>2</td>\n",
       "      <td>0</td>\n",
       "    </tr>\n",
       "    <tr>\n",
       "      <th>4</th>\n",
       "      <td>Block_E</td>\n",
       "      <td>3</td>\n",
       "      <td>6</td>\n",
       "      <td>Any</td>\n",
       "      <td>4</td>\n",
       "      <td>2</td>\n",
       "      <td>0</td>\n",
       "    </tr>\n",
       "    <tr>\n",
       "      <th>5</th>\n",
       "      <td>Block_F</td>\n",
       "      <td>1</td>\n",
       "      <td>5</td>\n",
       "      <td>Right</td>\n",
       "      <td>4</td>\n",
       "      <td>3</td>\n",
       "      <td>0</td>\n",
       "    </tr>\n",
       "  </tbody>\n",
       "</table>\n",
       "</div>"
      ],
      "text/plain": [
       "  Block_Type  Block_Count  Area_of_each_block (mm^2) Dir (wrt entire design)  \\\n",
       "0    Block_A            2                          5                    Left   \n",
       "1    Block_B            1                          3                     Any   \n",
       "2    Block_C            3                          9                     Any   \n",
       "3    Block_D            1                          4                  Bottom   \n",
       "4    Block_E            3                          6                     Any   \n",
       "5    Block_F            1                          5                   Right   \n",
       "\n",
       "   No_of_Edges  Group  Priority  \n",
       "0            4      1         0  \n",
       "1            4      1         0  \n",
       "2            4      1         0  \n",
       "3            4      2         0  \n",
       "4            4      2         0  \n",
       "5            4      3         0  "
      ]
     },
     "execution_count": 132,
     "metadata": {},
     "output_type": "execute_result"
    }
   ],
   "source": [
    "df"
   ]
  },
  {
   "cell_type": "code",
   "execution_count": 133,
   "metadata": {},
   "outputs": [
    {
     "name": "stderr",
     "output_type": "stream",
     "text": [
      "c:\\users\\gopik\\appdata\\local\\programs\\python\\python36\\lib\\site-packages\\ipykernel_launcher.py:8: FutureWarning: set_value is deprecated and will be removed in a future release. Please use .at[] or .iat[] accessors instead\n",
      "  \n"
     ]
    }
   ],
   "source": [
    "for i in range(df.shape[0]):\n",
    "    tem = df.iloc[i]\n",
    "    if tem[s] == 'Any':\n",
    "        j = tem['Group']\n",
    "        if 'Top' in df[df['Group']==j][s].tolist():\n",
    "            df.set_value(i, 'Priority', -1)\n",
    "        if 'Bottom' in df[df['Group']==j][s].tolist():\n",
    "            df.set_value(i, 'Priority', 1)"
   ]
  },
  {
   "cell_type": "code",
   "execution_count": 134,
   "metadata": {},
   "outputs": [
    {
     "data": {
      "text/html": [
       "<div>\n",
       "<style scoped>\n",
       "    .dataframe tbody tr th:only-of-type {\n",
       "        vertical-align: middle;\n",
       "    }\n",
       "\n",
       "    .dataframe tbody tr th {\n",
       "        vertical-align: top;\n",
       "    }\n",
       "\n",
       "    .dataframe thead th {\n",
       "        text-align: right;\n",
       "    }\n",
       "</style>\n",
       "<table border=\"1\" class=\"dataframe\">\n",
       "  <thead>\n",
       "    <tr style=\"text-align: right;\">\n",
       "      <th></th>\n",
       "      <th>Block_Type</th>\n",
       "      <th>Block_Count</th>\n",
       "      <th>Area_of_each_block (mm^2)</th>\n",
       "      <th>Dir (wrt entire design)</th>\n",
       "      <th>No_of_Edges</th>\n",
       "      <th>Group</th>\n",
       "      <th>Priority</th>\n",
       "    </tr>\n",
       "  </thead>\n",
       "  <tbody>\n",
       "    <tr>\n",
       "      <th>0</th>\n",
       "      <td>Block_A</td>\n",
       "      <td>2</td>\n",
       "      <td>5</td>\n",
       "      <td>Left</td>\n",
       "      <td>4</td>\n",
       "      <td>1</td>\n",
       "      <td>0</td>\n",
       "    </tr>\n",
       "    <tr>\n",
       "      <th>1</th>\n",
       "      <td>Block_B</td>\n",
       "      <td>1</td>\n",
       "      <td>3</td>\n",
       "      <td>Any</td>\n",
       "      <td>4</td>\n",
       "      <td>1</td>\n",
       "      <td>0</td>\n",
       "    </tr>\n",
       "    <tr>\n",
       "      <th>2</th>\n",
       "      <td>Block_C</td>\n",
       "      <td>3</td>\n",
       "      <td>9</td>\n",
       "      <td>Any</td>\n",
       "      <td>4</td>\n",
       "      <td>1</td>\n",
       "      <td>0</td>\n",
       "    </tr>\n",
       "    <tr>\n",
       "      <th>3</th>\n",
       "      <td>Block_D</td>\n",
       "      <td>1</td>\n",
       "      <td>4</td>\n",
       "      <td>Bottom</td>\n",
       "      <td>4</td>\n",
       "      <td>2</td>\n",
       "      <td>0</td>\n",
       "    </tr>\n",
       "    <tr>\n",
       "      <th>4</th>\n",
       "      <td>Block_E</td>\n",
       "      <td>3</td>\n",
       "      <td>6</td>\n",
       "      <td>Any</td>\n",
       "      <td>4</td>\n",
       "      <td>2</td>\n",
       "      <td>1</td>\n",
       "    </tr>\n",
       "    <tr>\n",
       "      <th>5</th>\n",
       "      <td>Block_F</td>\n",
       "      <td>1</td>\n",
       "      <td>5</td>\n",
       "      <td>Right</td>\n",
       "      <td>4</td>\n",
       "      <td>3</td>\n",
       "      <td>0</td>\n",
       "    </tr>\n",
       "  </tbody>\n",
       "</table>\n",
       "</div>"
      ],
      "text/plain": [
       "  Block_Type  Block_Count  Area_of_each_block (mm^2) Dir (wrt entire design)  \\\n",
       "0    Block_A            2                          5                    Left   \n",
       "1    Block_B            1                          3                     Any   \n",
       "2    Block_C            3                          9                     Any   \n",
       "3    Block_D            1                          4                  Bottom   \n",
       "4    Block_E            3                          6                     Any   \n",
       "5    Block_F            1                          5                   Right   \n",
       "\n",
       "   No_of_Edges  Group  Priority  \n",
       "0            4      1         0  \n",
       "1            4      1         0  \n",
       "2            4      1         0  \n",
       "3            4      2         0  \n",
       "4            4      2         1  \n",
       "5            4      3         0  "
      ]
     },
     "execution_count": 134,
     "metadata": {},
     "output_type": "execute_result"
    }
   ],
   "source": [
    "df"
   ]
  },
  {
   "cell_type": "code",
   "execution_count": 135,
   "metadata": {},
   "outputs": [],
   "source": [
    "df = df.sort_values(['Priority'])"
   ]
  },
  {
   "cell_type": "code",
   "execution_count": 136,
   "metadata": {},
   "outputs": [
    {
     "data": {
      "text/html": [
       "<div>\n",
       "<style scoped>\n",
       "    .dataframe tbody tr th:only-of-type {\n",
       "        vertical-align: middle;\n",
       "    }\n",
       "\n",
       "    .dataframe tbody tr th {\n",
       "        vertical-align: top;\n",
       "    }\n",
       "\n",
       "    .dataframe thead th {\n",
       "        text-align: right;\n",
       "    }\n",
       "</style>\n",
       "<table border=\"1\" class=\"dataframe\">\n",
       "  <thead>\n",
       "    <tr style=\"text-align: right;\">\n",
       "      <th></th>\n",
       "      <th>Block_Type</th>\n",
       "      <th>Block_Count</th>\n",
       "      <th>Area_of_each_block (mm^2)</th>\n",
       "      <th>Dir (wrt entire design)</th>\n",
       "      <th>No_of_Edges</th>\n",
       "      <th>Group</th>\n",
       "      <th>Priority</th>\n",
       "    </tr>\n",
       "  </thead>\n",
       "  <tbody>\n",
       "    <tr>\n",
       "      <th>0</th>\n",
       "      <td>Block_A</td>\n",
       "      <td>2</td>\n",
       "      <td>5</td>\n",
       "      <td>Left</td>\n",
       "      <td>4</td>\n",
       "      <td>1</td>\n",
       "      <td>0</td>\n",
       "    </tr>\n",
       "    <tr>\n",
       "      <th>1</th>\n",
       "      <td>Block_B</td>\n",
       "      <td>1</td>\n",
       "      <td>3</td>\n",
       "      <td>Any</td>\n",
       "      <td>4</td>\n",
       "      <td>1</td>\n",
       "      <td>0</td>\n",
       "    </tr>\n",
       "    <tr>\n",
       "      <th>2</th>\n",
       "      <td>Block_C</td>\n",
       "      <td>3</td>\n",
       "      <td>9</td>\n",
       "      <td>Any</td>\n",
       "      <td>4</td>\n",
       "      <td>1</td>\n",
       "      <td>0</td>\n",
       "    </tr>\n",
       "    <tr>\n",
       "      <th>3</th>\n",
       "      <td>Block_D</td>\n",
       "      <td>1</td>\n",
       "      <td>4</td>\n",
       "      <td>Bottom</td>\n",
       "      <td>4</td>\n",
       "      <td>2</td>\n",
       "      <td>0</td>\n",
       "    </tr>\n",
       "    <tr>\n",
       "      <th>5</th>\n",
       "      <td>Block_F</td>\n",
       "      <td>1</td>\n",
       "      <td>5</td>\n",
       "      <td>Right</td>\n",
       "      <td>4</td>\n",
       "      <td>3</td>\n",
       "      <td>0</td>\n",
       "    </tr>\n",
       "    <tr>\n",
       "      <th>4</th>\n",
       "      <td>Block_E</td>\n",
       "      <td>3</td>\n",
       "      <td>6</td>\n",
       "      <td>Any</td>\n",
       "      <td>4</td>\n",
       "      <td>2</td>\n",
       "      <td>1</td>\n",
       "    </tr>\n",
       "  </tbody>\n",
       "</table>\n",
       "</div>"
      ],
      "text/plain": [
       "  Block_Type  Block_Count  Area_of_each_block (mm^2) Dir (wrt entire design)  \\\n",
       "0    Block_A            2                          5                    Left   \n",
       "1    Block_B            1                          3                     Any   \n",
       "2    Block_C            3                          9                     Any   \n",
       "3    Block_D            1                          4                  Bottom   \n",
       "5    Block_F            1                          5                   Right   \n",
       "4    Block_E            3                          6                     Any   \n",
       "\n",
       "   No_of_Edges  Group  Priority  \n",
       "0            4      1         0  \n",
       "1            4      1         0  \n",
       "2            4      1         0  \n",
       "3            4      2         0  \n",
       "5            4      3         0  \n",
       "4            4      2         1  "
      ]
     },
     "execution_count": 136,
     "metadata": {},
     "output_type": "execute_result"
    }
   ],
   "source": [
    "df"
   ]
  },
  {
   "cell_type": "code",
   "execution_count": 137,
   "metadata": {},
   "outputs": [],
   "source": [
    "Any = df[df[s]=='Any']\n",
    "blocks = Any['Block_Count'].tolist()\n",
    "areas = Any['Area_of_each_block (mm^2)'].tolist()\n",
    "types = Any['Block_Type'].tolist()"
   ]
  },
  {
   "cell_type": "code",
   "execution_count": 138,
   "metadata": {},
   "outputs": [],
   "source": [
    "names = []"
   ]
  },
  {
   "cell_type": "code",
   "execution_count": 139,
   "metadata": {},
   "outputs": [],
   "source": [
    "plot = []\n",
    "cur = 0\n",
    "for i in range(len(blocks)):\n",
    "    for j in range(blocks[i]):\n",
    "        plot.append([0, cur])\n",
    "        cur+=areas[i]/sq\n",
    "        plot[-1]+=[sq, cur]\n",
    "        plot[-1]=tuple(plot[-1])\n",
    "        names.append(types[i])\n",
    "width = sq"
   ]
  },
  {
   "cell_type": "code",
   "execution_count": 140,
   "metadata": {},
   "outputs": [],
   "source": [
    "Right = df[df[s]=='Right']\n",
    "blocks = Right['Block_Count'].tolist()\n",
    "areas = Right['Area_of_each_block (mm^2)'].tolist()\n",
    "types = Right['Block_Type'].tolist()"
   ]
  },
  {
   "cell_type": "code",
   "execution_count": 141,
   "metadata": {},
   "outputs": [],
   "source": [
    "AnyHeight = plot[-1][-1]\n",
    "step = sum(areas[i]*blocks[i] for i in range(len(blocks)))/AnyHeight\n",
    "cur = 0\n",
    "for i in range(len(blocks)):\n",
    "    for j in range(blocks[i]):\n",
    "        plot.append([sq, cur])\n",
    "        cur+=areas[i]/step\n",
    "        plot[-1]+=[sq+step, cur]\n",
    "        plot[-1] = tuple(plot[-1])\n",
    "        names.append(types[i])\n",
    "width+=step"
   ]
  },
  {
   "cell_type": "code",
   "execution_count": 142,
   "metadata": {},
   "outputs": [],
   "source": [
    "Left = df[df[s]=='Left']\n",
    "blocks = Left['Block_Count'].tolist()\n",
    "areas = Left['Area_of_each_block (mm^2)'].tolist()\n",
    "types = Left['Block_Type'].tolist()"
   ]
  },
  {
   "cell_type": "code",
   "execution_count": 143,
   "metadata": {},
   "outputs": [],
   "source": [
    "step = sum(areas[i]*blocks[i] for i in range(len(blocks)))/AnyHeight\n",
    "cur = 0\n",
    "for i in range(len(blocks)):\n",
    "    for j in range(blocks[i]):\n",
    "        plot.append([-step, cur])\n",
    "        cur+=areas[i]/step\n",
    "        plot[-1]+=[0, cur]\n",
    "        plot[-1] = tuple(plot[-1])\n",
    "        names.append(types[i])\n",
    "width+=step"
   ]
  },
  {
   "cell_type": "code",
   "execution_count": 144,
   "metadata": {},
   "outputs": [],
   "source": [
    "Top = df[df[s]=='Top']\n",
    "blocks = Top['Block_Count'].tolist()\n",
    "areas = Top['Area_of_each_block (mm^2)'].tolist()\n",
    "types = Top['Block_Type'].tolist()"
   ]
  },
  {
   "cell_type": "code",
   "execution_count": 145,
   "metadata": {},
   "outputs": [],
   "source": [
    "step = sum(areas[i]*blocks[i] for i in range(len(blocks)))/width\n",
    "leftmost = plot[-1][0]\n",
    "cur = plot[-1][0]\n",
    "for i in range(len(blocks)):\n",
    "    for j in range(blocks[i]):\n",
    "        plot.append([cur, -step])\n",
    "        cur+=areas[i]/step\n",
    "        plot[-1]+=[cur, 0]\n",
    "        plot[-1] = tuple(plot[-1])\n",
    "        names.append(types[i])"
   ]
  },
  {
   "cell_type": "code",
   "execution_count": 146,
   "metadata": {},
   "outputs": [],
   "source": [
    "Bottom = df[df[s]=='Bottom']\n",
    "blocks = Bottom['Block_Count'].tolist()\n",
    "areas = Bottom['Area_of_each_block (mm^2)'].tolist()\n",
    "types = Bottom['Block_Type'].tolist()"
   ]
  },
  {
   "cell_type": "code",
   "execution_count": 147,
   "metadata": {},
   "outputs": [],
   "source": [
    "step = sum(areas[i]*blocks[i] for i in range(len(blocks)))/width\n",
    "cur = leftmost\n",
    "for i in range(len(blocks)):\n",
    "    for j in range(blocks[i]):\n",
    "        plot.append([cur, AnyHeight])\n",
    "        cur+=areas[i]/step\n",
    "        plot[-1]+=[cur, AnyHeight+step]\n",
    "        plot[-1] = tuple(plot[-1])\n",
    "        names.append(types[i])"
   ]
  },
  {
   "cell_type": "code",
   "execution_count": 148,
   "metadata": {},
   "outputs": [
    {
     "data": {
      "text/plain": [
       "(-0.625, 0)"
      ]
     },
     "execution_count": 148,
     "metadata": {},
     "output_type": "execute_result"
    }
   ],
   "source": [
    "x = min(min(i[0] for i in plot), min(i[2] for i in plot))\n",
    "y = min(min(i[1] for i in plot), min(i[3] for i in plot))\n",
    "x, y"
   ]
  },
  {
   "cell_type": "code",
   "execution_count": 149,
   "metadata": {},
   "outputs": [],
   "source": [
    "plot = [(i[0]-x, i[1]-y, i[2]-x, i[3]-y) for i in plot]"
   ]
  },
  {
   "cell_type": "code",
   "execution_count": 150,
   "metadata": {},
   "outputs": [],
   "source": [
    "for i in range(len(names)):\n",
    "    names[i] = names[i]+str(i+1)\n",
    "    "
   ]
  },
  {
   "cell_type": "code",
   "execution_count": 154,
   "metadata": {},
   "outputs": [],
   "source": [
    "positions = []\n",
    "for i in plot:\n",
    "    positions.append([])\n",
    "    for j in i:\n",
    "        positions[-1].append(41*j)"
   ]
  },
  {
   "cell_type": "code",
   "execution_count": 155,
   "metadata": {},
   "outputs": [],
   "source": [
    "lengths = []\n",
    "breadths = []\n",
    "area = []\n",
    "aspect_ratio = []\n",
    "for i in plot:\n",
    "    lengths.append(i[2]-i[0])\n",
    "    breadths.append(i[3]-i[1])\n",
    "    area.append((i[2]-i[0])*(i[3]-i[1]))\n",
    "    aspect_ratio.append((i[3]-i[1])/(i[2]-i[0]))"
   ]
  },
  {
   "cell_type": "code",
   "execution_count": 156,
   "metadata": {},
   "outputs": [],
   "source": [
    "import rpack\n",
    "from tkinter import *\n",
    "import pandas as pd\n",
    "from tkinter.ttk import *\n",
    "# positions = [(j*100 for j in i) for i in plot]\n",
    "root  = Tk()\n",
    "root.geometry(\"1000x1000\")\n",
    "myCanvas = Canvas(root, bg=\"white\", height=800, width=800)\n",
    "# myCanvas.create_rectangle(25, 25, cs[0]+25, cs[1]+25, outline = \"#636e72\", fill = \"#2d3436\", width = 5)\n",
    "for i in range(len(plot)):\n",
    "    myCanvas.create_rectangle(positions[i][0]+50, positions[i][1]+50, positions[i][2]+50, positions[i][3]+50, outline = \"#636e72\", fill = \"#ffeaa7\", width = 1)\n",
    "    mylabel = myCanvas.create_text((positions[i][2]+positions[i][0])/2 + 50, (positions[i][1]+positions[i][3])/2 + 50, text=names[i].split(\"_\")[1])\n",
    "mylabel = myCanvas.create_text(350,700, text=\" Area= \" + str(sum(area)) + \" mm^2\")\n",
    "myCanvas.pack()\n",
    "root.mainloop()"
   ]
  },
  {
   "cell_type": "code",
   "execution_count": null,
   "metadata": {},
   "outputs": [],
   "source": []
  }
 ],
 "metadata": {
  "kernelspec": {
   "display_name": "Python 3",
   "language": "python",
   "name": "python3"
  },
  "language_info": {
   "codemirror_mode": {
    "name": "ipython",
    "version": 3
   },
   "file_extension": ".py",
   "mimetype": "text/x-python",
   "name": "python",
   "nbconvert_exporter": "python",
   "pygments_lexer": "ipython3",
   "version": "3.6.8"
  }
 },
 "nbformat": 4,
 "nbformat_minor": 2
}
