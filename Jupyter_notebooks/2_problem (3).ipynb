{
 "cells": [
  {
   "cell_type": "code",
   "execution_count": 203,
   "metadata": {},
   "outputs": [],
   "source": [
    "import pandas as pd\n",
    "df = pd.read_csv('E:/SW-VLSI/Input-Dataset/tier_II/2_dataset2.csv')"
   ]
  },
  {
   "cell_type": "code",
   "execution_count": 204,
   "metadata": {},
   "outputs": [],
   "source": [
    "try:\n",
    "    smtg = df['Dir (wrt entire design)']\n",
    "    s = 'Dir (wrt entire design)'\n",
    "except:\n",
    "    s = 'Dir (wrt design)'"
   ]
  },
  {
   "cell_type": "code",
   "execution_count": 205,
   "metadata": {},
   "outputs": [],
   "source": [
    "import math\n",
    "sq = math.sqrt(max(df[df[s]=='Any']['Area_of_each_block (mm^2)']))"
   ]
  },
  {
   "cell_type": "code",
   "execution_count": null,
   "metadata": {},
   "outputs": [],
   "source": [
    "\n"
   ]
  },
  {
   "cell_type": "code",
   "execution_count": 206,
   "metadata": {},
   "outputs": [],
   "source": [
    "names = []"
   ]
  },
  {
   "cell_type": "code",
   "execution_count": 207,
   "metadata": {},
   "outputs": [],
   "source": [
    "Any = df[df[s]=='Any']\n",
    "blocks = Any['Block_Count'].tolist()\n",
    "areas = Any['Area_of_each_block (mm^2)'].tolist()\n",
    "types = Any['Block_Type'].tolist()"
   ]
  },
  {
   "cell_type": "code",
   "execution_count": 208,
   "metadata": {},
   "outputs": [
    {
     "data": {
      "text/plain": [
       "[1, 3, 3]"
      ]
     },
     "execution_count": 208,
     "metadata": {},
     "output_type": "execute_result"
    }
   ],
   "source": [
    "blocks"
   ]
  },
  {
   "cell_type": "code",
   "execution_count": 209,
   "metadata": {},
   "outputs": [],
   "source": [
    "names = []"
   ]
  },
  {
   "cell_type": "code",
   "execution_count": 210,
   "metadata": {},
   "outputs": [],
   "source": [
    "plot = []\n",
    "cur = 0\n",
    "for i in range(len(blocks)):\n",
    "    for j in range(blocks[i]):\n",
    "        plot.append([0, cur])\n",
    "        cur+=areas[i]/sq\n",
    "        plot[-1]+=[sq, cur]\n",
    "        plot[-1]=tuple(plot[-1])\n",
    "        names.append(types[i])\n",
    "width = sq"
   ]
  },
  {
   "cell_type": "code",
   "execution_count": 211,
   "metadata": {},
   "outputs": [
    {
     "data": {
      "text/plain": [
       "[(0, 0, 3.0, 1.0),\n",
       " (0, 1.0, 3.0, 4.0),\n",
       " (0, 4.0, 3.0, 7.0),\n",
       " (0, 7.0, 3.0, 10.0),\n",
       " (0, 10.0, 3.0, 12.0),\n",
       " (0, 12.0, 3.0, 14.0),\n",
       " (0, 14.0, 3.0, 16.0)]"
      ]
     },
     "execution_count": 211,
     "metadata": {},
     "output_type": "execute_result"
    }
   ],
   "source": [
    "plot"
   ]
  },
  {
   "cell_type": "code",
   "execution_count": 212,
   "metadata": {},
   "outputs": [],
   "source": [
    "Right = df[df[s]=='Right']\n",
    "blocks = Right['Block_Count'].tolist()\n",
    "areas = Right['Area_of_each_block (mm^2)'].tolist()\n",
    "types = Right['Block_Type'].tolist()"
   ]
  },
  {
   "cell_type": "code",
   "execution_count": 213,
   "metadata": {},
   "outputs": [
    {
     "data": {
      "text/plain": [
       "[1]"
      ]
     },
     "execution_count": 213,
     "metadata": {},
     "output_type": "execute_result"
    }
   ],
   "source": [
    "blocks"
   ]
  },
  {
   "cell_type": "code",
   "execution_count": 214,
   "metadata": {},
   "outputs": [],
   "source": [
    "AnyHeight = plot[-1][-1]\n",
    "step = sum(areas[i]*blocks[i] for i in range(len(blocks)))/AnyHeight\n",
    "cur = 0\n",
    "for i in range(len(blocks)):\n",
    "    for j in range(blocks[i]):\n",
    "        plot.append([sq, cur])\n",
    "        cur+=areas[i]/step\n",
    "        plot[-1]+=[sq+step, cur]\n",
    "        plot[-1] = tuple(plot[-1])\n",
    "        names.append(types[i])\n",
    "width+=step"
   ]
  },
  {
   "cell_type": "code",
   "execution_count": 215,
   "metadata": {},
   "outputs": [
    {
     "data": {
      "text/plain": [
       "[(0, 0, 3.0, 1.0),\n",
       " (0, 1.0, 3.0, 4.0),\n",
       " (0, 4.0, 3.0, 7.0),\n",
       " (0, 7.0, 3.0, 10.0),\n",
       " (0, 10.0, 3.0, 12.0),\n",
       " (0, 12.0, 3.0, 14.0),\n",
       " (0, 14.0, 3.0, 16.0),\n",
       " (3.0, 0, 3.3125, 16.0)]"
      ]
     },
     "execution_count": 215,
     "metadata": {},
     "output_type": "execute_result"
    }
   ],
   "source": [
    "plot"
   ]
  },
  {
   "cell_type": "code",
   "execution_count": 216,
   "metadata": {},
   "outputs": [],
   "source": [
    "Left = df[df[s]=='Left']\n",
    "blocks = Left['Block_Count'].tolist()\n",
    "areas = Left['Area_of_each_block (mm^2)'].tolist()\n",
    "types = Left['Block_Type'].tolist()"
   ]
  },
  {
   "cell_type": "code",
   "execution_count": 217,
   "metadata": {},
   "outputs": [
    {
     "data": {
      "text/plain": [
       "[2]"
      ]
     },
     "execution_count": 217,
     "metadata": {},
     "output_type": "execute_result"
    }
   ],
   "source": [
    "blocks"
   ]
  },
  {
   "cell_type": "code",
   "execution_count": 218,
   "metadata": {},
   "outputs": [],
   "source": [
    "step = sum(areas[i]*blocks[i] for i in range(len(blocks)))/AnyHeight\n",
    "cur = 0\n",
    "for i in range(len(blocks)):\n",
    "    for j in range(blocks[i]):\n",
    "        plot.append([-step, cur])\n",
    "        cur+=areas[i]/step\n",
    "        plot[-1]+=[0, cur]\n",
    "        plot[-1] = tuple(plot[-1])\n",
    "        names.append(types[i])\n",
    "width+=step"
   ]
  },
  {
   "cell_type": "code",
   "execution_count": 219,
   "metadata": {},
   "outputs": [
    {
     "data": {
      "text/plain": [
       "[(0, 0, 3.0, 1.0),\n",
       " (0, 1.0, 3.0, 4.0),\n",
       " (0, 4.0, 3.0, 7.0),\n",
       " (0, 7.0, 3.0, 10.0),\n",
       " (0, 10.0, 3.0, 12.0),\n",
       " (0, 12.0, 3.0, 14.0),\n",
       " (0, 14.0, 3.0, 16.0),\n",
       " (3.0, 0, 3.3125, 16.0),\n",
       " (-0.625, 0, 0, 8.0),\n",
       " (-0.625, 8.0, 0, 16.0)]"
      ]
     },
     "execution_count": 219,
     "metadata": {},
     "output_type": "execute_result"
    }
   ],
   "source": [
    "plot"
   ]
  },
  {
   "cell_type": "code",
   "execution_count": 220,
   "metadata": {},
   "outputs": [
    {
     "data": {
      "text/plain": [
       "3.9375"
      ]
     },
     "execution_count": 220,
     "metadata": {},
     "output_type": "execute_result"
    }
   ],
   "source": [
    "width"
   ]
  },
  {
   "cell_type": "code",
   "execution_count": 221,
   "metadata": {},
   "outputs": [],
   "source": [
    "Top = df[df[s]=='Top']\n",
    "blocks = Top['Block_Count'].tolist()\n",
    "areas = Top['Area_of_each_block (mm^2)'].tolist()\n",
    "types = Top['Block_Type'].tolist()"
   ]
  },
  {
   "cell_type": "code",
   "execution_count": 222,
   "metadata": {},
   "outputs": [
    {
     "data": {
      "text/plain": [
       "[]"
      ]
     },
     "execution_count": 222,
     "metadata": {},
     "output_type": "execute_result"
    }
   ],
   "source": [
    "blocks"
   ]
  },
  {
   "cell_type": "code",
   "execution_count": 223,
   "metadata": {},
   "outputs": [],
   "source": [
    "step = sum(areas[i]*blocks[i] for i in range(len(blocks)))/width\n",
    "leftmost = plot[-1][0]\n",
    "cur = plot[-1][0]\n",
    "for i in range(len(blocks)):\n",
    "    for j in range(blocks[i]):\n",
    "        plot.append([cur, -step])\n",
    "        cur+=areas[i]/step\n",
    "        plot[-1]+=[cur, 0]\n",
    "        plot[-1] = tuple(plot[-1])\n",
    "        names.append(types[i])"
   ]
  },
  {
   "cell_type": "code",
   "execution_count": 224,
   "metadata": {},
   "outputs": [
    {
     "data": {
      "text/plain": [
       "['Block_B',\n",
       " 'Block_C',\n",
       " 'Block_C',\n",
       " 'Block_C',\n",
       " 'Block_E',\n",
       " 'Block_E',\n",
       " 'Block_E',\n",
       " 'Block_F',\n",
       " 'Block_A',\n",
       " 'Block_A']"
      ]
     },
     "execution_count": 224,
     "metadata": {},
     "output_type": "execute_result"
    }
   ],
   "source": [
    "names"
   ]
  },
  {
   "cell_type": "code",
   "execution_count": 225,
   "metadata": {},
   "outputs": [
    {
     "data": {
      "text/plain": [
       "[(0, 0, 3.0, 1.0),\n",
       " (0, 1.0, 3.0, 4.0),\n",
       " (0, 4.0, 3.0, 7.0),\n",
       " (0, 7.0, 3.0, 10.0),\n",
       " (0, 10.0, 3.0, 12.0),\n",
       " (0, 12.0, 3.0, 14.0),\n",
       " (0, 14.0, 3.0, 16.0),\n",
       " (3.0, 0, 3.3125, 16.0),\n",
       " (-0.625, 0, 0, 8.0),\n",
       " (-0.625, 8.0, 0, 16.0)]"
      ]
     },
     "execution_count": 225,
     "metadata": {},
     "output_type": "execute_result"
    }
   ],
   "source": [
    "plot"
   ]
  },
  {
   "cell_type": "code",
   "execution_count": 226,
   "metadata": {},
   "outputs": [],
   "source": [
    "Bottom = df[df[s]=='Bottom']\n",
    "blocks = Bottom['Block_Count'].tolist()\n",
    "areas = Bottom['Area_of_each_block (mm^2)'].tolist()\n",
    "types = Bottom['Block_Type'].tolist()"
   ]
  },
  {
   "cell_type": "code",
   "execution_count": 227,
   "metadata": {},
   "outputs": [
    {
     "data": {
      "text/plain": [
       "[1]"
      ]
     },
     "execution_count": 227,
     "metadata": {},
     "output_type": "execute_result"
    }
   ],
   "source": [
    "blocks"
   ]
  },
  {
   "cell_type": "code",
   "execution_count": 228,
   "metadata": {},
   "outputs": [],
   "source": [
    "step = sum(areas[i]*blocks[i] for i in range(len(blocks)))/width\n",
    "cur = leftmost\n",
    "for i in range(len(blocks)):\n",
    "    for j in range(blocks[i]):\n",
    "        plot.append([cur, AnyHeight])\n",
    "        cur+=areas[i]/step\n",
    "        plot[-1]+=[cur, AnyHeight+step]\n",
    "        plot[-1] = tuple(plot[-1])\n",
    "        names.append(types[i])\n",
    "        "
   ]
  },
  {
   "cell_type": "code",
   "execution_count": 229,
   "metadata": {},
   "outputs": [
    {
     "data": {
      "text/plain": [
       "['Block_B',\n",
       " 'Block_C',\n",
       " 'Block_C',\n",
       " 'Block_C',\n",
       " 'Block_E',\n",
       " 'Block_E',\n",
       " 'Block_E',\n",
       " 'Block_F',\n",
       " 'Block_A',\n",
       " 'Block_A',\n",
       " 'Block_D']"
      ]
     },
     "execution_count": 229,
     "metadata": {},
     "output_type": "execute_result"
    }
   ],
   "source": [
    "names"
   ]
  },
  {
   "cell_type": "code",
   "execution_count": 230,
   "metadata": {},
   "outputs": [
    {
     "data": {
      "text/plain": [
       "(-0.625, 0)"
      ]
     },
     "execution_count": 230,
     "metadata": {},
     "output_type": "execute_result"
    }
   ],
   "source": [
    "x = min(min(i[0] for i in plot), min(i[2] for i in plot))\n",
    "y = min(min(i[1] for i in plot), min(i[3] for i in plot))\n",
    "x, y"
   ]
  },
  {
   "cell_type": "code",
   "execution_count": 231,
   "metadata": {},
   "outputs": [],
   "source": [
    "plot = [(i[0]-x, i[1]-y, i[2]-x, i[3]-y) for i in plot]"
   ]
  },
  {
   "cell_type": "code",
   "execution_count": 232,
   "metadata": {},
   "outputs": [
    {
     "data": {
      "text/plain": [
       "[(0.625, 0, 3.625, 1.0),\n",
       " (0.625, 1.0, 3.625, 4.0),\n",
       " (0.625, 4.0, 3.625, 7.0),\n",
       " (0.625, 7.0, 3.625, 10.0),\n",
       " (0.625, 10.0, 3.625, 12.0),\n",
       " (0.625, 12.0, 3.625, 14.0),\n",
       " (0.625, 14.0, 3.625, 16.0),\n",
       " (3.625, 0, 3.9375, 16.0),\n",
       " (0.0, 0, 0.625, 8.0),\n",
       " (0.0, 8.0, 0.625, 16.0),\n",
       " (0.0, 16.0, 3.9375, 17.015873015873016)]"
      ]
     },
     "execution_count": 232,
     "metadata": {},
     "output_type": "execute_result"
    }
   ],
   "source": [
    "plot"
   ]
  },
  {
   "cell_type": "code",
   "execution_count": 233,
   "metadata": {},
   "outputs": [],
   "source": [
    "for i in range(len(names)):\n",
    "    names[i] = names[i]+str(i+1)\n",
    "    "
   ]
  },
  {
   "cell_type": "markdown",
   "metadata": {},
   "source": []
  },
  {
   "cell_type": "code",
   "execution_count": 234,
   "metadata": {},
   "outputs": [
    {
     "data": {
      "text/plain": [
       "['Block_B1',\n",
       " 'Block_C2',\n",
       " 'Block_C3',\n",
       " 'Block_C4',\n",
       " 'Block_E5',\n",
       " 'Block_E6',\n",
       " 'Block_E7',\n",
       " 'Block_F8',\n",
       " 'Block_A9',\n",
       " 'Block_A10',\n",
       " 'Block_D11']"
      ]
     },
     "execution_count": 234,
     "metadata": {},
     "output_type": "execute_result"
    }
   ],
   "source": [
    "names"
   ]
  },
  {
   "cell_type": "code",
   "execution_count": 235,
   "metadata": {},
   "outputs": [],
   "source": [
    "positions = []\n",
    "for i in plot:\n",
    "    positions.append([])\n",
    "    for j in i:\n",
    "        positions[-1].append(41*j)"
   ]
  },
  {
   "cell_type": "code",
   "execution_count": 236,
   "metadata": {},
   "outputs": [],
   "source": [
    "lengths = []\n",
    "breadths = []\n",
    "area = []\n",
    "aspect_ratio = []\n",
    "for i in plot:\n",
    "    lengths.append(i[2]-i[0])\n",
    "    breadths.append(i[3]-i[1])\n",
    "    area.append((i[2]-i[0])*(i[3]-i[1]))\n",
    "    aspect_ratio.append((i[3]-i[1])/(i[2]-i[0]))"
   ]
  },
  {
   "cell_type": "code",
   "execution_count": 237,
   "metadata": {},
   "outputs": [],
   "source": [
    "zippedList =  list(zip(names, lengths, breadths, area, aspect_ratio))"
   ]
  },
  {
   "cell_type": "code",
   "execution_count": 238,
   "metadata": {},
   "outputs": [],
   "source": [
    "dfObj = pd.DataFrame(zippedList, columns = ['Name' , 'Length', 'Breadth', 'Area', 'Aspect Ratio'])"
   ]
  },
  {
   "cell_type": "code",
   "execution_count": 239,
   "metadata": {},
   "outputs": [
    {
     "data": {
      "text/html": [
       "<div>\n",
       "<style scoped>\n",
       "    .dataframe tbody tr th:only-of-type {\n",
       "        vertical-align: middle;\n",
       "    }\n",
       "\n",
       "    .dataframe tbody tr th {\n",
       "        vertical-align: top;\n",
       "    }\n",
       "\n",
       "    .dataframe thead th {\n",
       "        text-align: right;\n",
       "    }\n",
       "</style>\n",
       "<table border=\"1\" class=\"dataframe\">\n",
       "  <thead>\n",
       "    <tr style=\"text-align: right;\">\n",
       "      <th></th>\n",
       "      <th>Name</th>\n",
       "      <th>Length</th>\n",
       "      <th>Breadth</th>\n",
       "      <th>Area</th>\n",
       "      <th>Aspect Ratio</th>\n",
       "    </tr>\n",
       "  </thead>\n",
       "  <tbody>\n",
       "    <tr>\n",
       "      <th>0</th>\n",
       "      <td>Block_B1</td>\n",
       "      <td>3.0000</td>\n",
       "      <td>1.000000</td>\n",
       "      <td>3.0</td>\n",
       "      <td>0.333333</td>\n",
       "    </tr>\n",
       "    <tr>\n",
       "      <th>1</th>\n",
       "      <td>Block_C2</td>\n",
       "      <td>3.0000</td>\n",
       "      <td>3.000000</td>\n",
       "      <td>9.0</td>\n",
       "      <td>1.000000</td>\n",
       "    </tr>\n",
       "    <tr>\n",
       "      <th>2</th>\n",
       "      <td>Block_C3</td>\n",
       "      <td>3.0000</td>\n",
       "      <td>3.000000</td>\n",
       "      <td>9.0</td>\n",
       "      <td>1.000000</td>\n",
       "    </tr>\n",
       "    <tr>\n",
       "      <th>3</th>\n",
       "      <td>Block_C4</td>\n",
       "      <td>3.0000</td>\n",
       "      <td>3.000000</td>\n",
       "      <td>9.0</td>\n",
       "      <td>1.000000</td>\n",
       "    </tr>\n",
       "    <tr>\n",
       "      <th>4</th>\n",
       "      <td>Block_E5</td>\n",
       "      <td>3.0000</td>\n",
       "      <td>2.000000</td>\n",
       "      <td>6.0</td>\n",
       "      <td>0.666667</td>\n",
       "    </tr>\n",
       "    <tr>\n",
       "      <th>5</th>\n",
       "      <td>Block_E6</td>\n",
       "      <td>3.0000</td>\n",
       "      <td>2.000000</td>\n",
       "      <td>6.0</td>\n",
       "      <td>0.666667</td>\n",
       "    </tr>\n",
       "    <tr>\n",
       "      <th>6</th>\n",
       "      <td>Block_E7</td>\n",
       "      <td>3.0000</td>\n",
       "      <td>2.000000</td>\n",
       "      <td>6.0</td>\n",
       "      <td>0.666667</td>\n",
       "    </tr>\n",
       "    <tr>\n",
       "      <th>7</th>\n",
       "      <td>Block_F8</td>\n",
       "      <td>0.3125</td>\n",
       "      <td>16.000000</td>\n",
       "      <td>5.0</td>\n",
       "      <td>51.200000</td>\n",
       "    </tr>\n",
       "    <tr>\n",
       "      <th>8</th>\n",
       "      <td>Block_A9</td>\n",
       "      <td>0.6250</td>\n",
       "      <td>8.000000</td>\n",
       "      <td>5.0</td>\n",
       "      <td>12.800000</td>\n",
       "    </tr>\n",
       "    <tr>\n",
       "      <th>9</th>\n",
       "      <td>Block_A10</td>\n",
       "      <td>0.6250</td>\n",
       "      <td>8.000000</td>\n",
       "      <td>5.0</td>\n",
       "      <td>12.800000</td>\n",
       "    </tr>\n",
       "    <tr>\n",
       "      <th>10</th>\n",
       "      <td>Block_D11</td>\n",
       "      <td>3.9375</td>\n",
       "      <td>1.015873</td>\n",
       "      <td>4.0</td>\n",
       "      <td>0.257999</td>\n",
       "    </tr>\n",
       "  </tbody>\n",
       "</table>\n",
       "</div>"
      ],
      "text/plain": [
       "         Name  Length    Breadth  Area  Aspect Ratio\n",
       "0    Block_B1  3.0000   1.000000   3.0      0.333333\n",
       "1    Block_C2  3.0000   3.000000   9.0      1.000000\n",
       "2    Block_C3  3.0000   3.000000   9.0      1.000000\n",
       "3    Block_C4  3.0000   3.000000   9.0      1.000000\n",
       "4    Block_E5  3.0000   2.000000   6.0      0.666667\n",
       "5    Block_E6  3.0000   2.000000   6.0      0.666667\n",
       "6    Block_E7  3.0000   2.000000   6.0      0.666667\n",
       "7    Block_F8  0.3125  16.000000   5.0     51.200000\n",
       "8    Block_A9  0.6250   8.000000   5.0     12.800000\n",
       "9   Block_A10  0.6250   8.000000   5.0     12.800000\n",
       "10  Block_D11  3.9375   1.015873   4.0      0.257999"
      ]
     },
     "execution_count": 239,
     "metadata": {},
     "output_type": "execute_result"
    }
   ],
   "source": [
    "dfObj"
   ]
  },
  {
   "cell_type": "code",
   "execution_count": 121,
   "metadata": {},
   "outputs": [],
   "source": [
    "import rpack\n",
    "from tkinter import *\n",
    "import pandas as pd\n",
    "from tkinter.ttk import *\n",
    "# positions = [(j*100 for j in i) for i in plot]\n",
    "root  = Tk()\n",
    "root.geometry(\"1000x1000\")\n",
    "myCanvas = Canvas(root, bg=\"white\", height=800, width=800)\n",
    "# myCanvas.create_rectangle(25, 25, cs[0]+25, cs[1]+25, outline = \"#636e72\", fill = \"#2d3436\", width = 5)\n",
    "for i in range(len(plot)):\n",
    "    myCanvas.create_rectangle(positions[i][0]+50, positions[i][1]+50, positions[i][2]+50, positions[i][3]+50, outline = \"#636e72\", fill = \"#ffeaa7\", width = 1)\n",
    "    mylabel = myCanvas.create_text((positions[i][2]+positions[i][0])/2 + 50, (positions[i][1]+positions[i][3])/2 + 50, text=names[i].split(\"_\")[1])\n",
    "mylabel = myCanvas.create_text(350,700, text=\" Area= \" + str(sum(area)) + \" mm^2\")\n",
    "myCanvas.pack()\n",
    "root.mainloop()"
   ]
  },
  {
   "cell_type": "code",
   "execution_count": null,
   "metadata": {},
   "outputs": [],
   "source": []
  },
  {
   "cell_type": "code",
   "execution_count": 267,
   "metadata": {},
   "outputs": [],
   "source": [
    "aspect_ratio = []\n",
    "for i in plot:\n",
    "    aspect_ratio.append((i[2]-i[0],i[3]-i[1],(i[3]-i[1])/(i[2]-i[0])))"
   ]
  },
  {
   "cell_type": "code",
   "execution_count": 268,
   "metadata": {},
   "outputs": [
    {
     "data": {
      "text/plain": [
       "{'Block_B1': (2.6457513110645907, 0.3779644730092271, 0.1428571428571428),\n",
       " 'Block_B2': (2.6457513110645907, 0.3779644730092273, 0.14285714285714288),\n",
       " 'Block_B3': (2.6457513110645907, 0.3779644730092273, 0.14285714285714288),\n",
       " 'Block_D4': (2.6457513110645907, 2.64575131106459, 0.9999999999999997),\n",
       " 'Block_F5': (2.6457513110645907, 0.37796447300922775, 0.14285714285714304),\n",
       " 'Block_A6': (2.1647056181437563, 1.385869734367166, 0.6402116402116399),\n",
       " 'Block_A7': (2.1647056181437563, 1.3858697343671667, 0.6402116402116402),\n",
       " 'Block_A8': (2.1647056181437563, 1.3858697343671667, 0.6402116402116402),\n",
       " 'Block_G9': (1.4431370787625042, 2.0788046015507495, 1.44047619047619),\n",
       " 'Block_G10': (1.4431370787625042, 2.0788046015507495, 1.44047619047619),\n",
       " 'Block_C11': (3.1267970039854256, 1.2792643701850765, 0.4091293322062552),\n",
       " 'Block_C12': (3.1267970039854256, 1.2792643701850765, 0.4091293322062552),\n",
       " 'Block_E13': (1.5633985019927128, 0.6396321850925384, 0.40912933220625525),\n",
       " 'Block_E14': (1.5633985019927128, 0.6396321850925384, 0.40912933220625525),\n",
       " 'Block_E15': (1.563398501992713, 0.6396321850925384, 0.4091293322062552),\n",
       " 'Block_E16': (1.5633985019927126, 0.6396321850925384, 0.4091293322062553)}"
      ]
     },
     "execution_count": 268,
     "metadata": {},
     "output_type": "execute_result"
    }
   ],
   "source": [
    "details={}\n",
    "for i in range(len(names)):\n",
    "    details[names[i]]=aspect_ratio[i]\n",
    "\n",
    "details\n",
    "        \n"
   ]
  },
  {
   "cell_type": "code",
   "execution_count": null,
   "metadata": {},
   "outputs": [],
   "source": []
  }
 ],
 "metadata": {
  "kernelspec": {
   "display_name": "Python 3",
   "language": "python",
   "name": "python3"
  },
  "language_info": {
   "codemirror_mode": {
    "name": "ipython",
    "version": 3
   },
   "file_extension": ".py",
   "mimetype": "text/x-python",
   "name": "python",
   "nbconvert_exporter": "python",
   "pygments_lexer": "ipython3",
   "version": "3.6.8"
  }
 },
 "nbformat": 4,
 "nbformat_minor": 2
}
