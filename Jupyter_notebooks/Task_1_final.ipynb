{
 "cells": [
  {
   "cell_type": "code",
   "execution_count": 8,
   "metadata": {},
   "outputs": [
    {
     "name": "stdout",
     "output_type": "stream",
     "text": [
      "  Block_Type  Block_Count  Width  Height Dir (wrt design)  No_of_Edges\n",
      "0    Block_A            1     65      91              any            4\n",
      "1    Block_B            1     47      80              any            4\n",
      "2    Block_C            1     50     110              any            4\n",
      "3    Block_D            1     70     113              any            4\n",
      "4    Block_E            1     40      30              any            4\n",
      "5    Block_F            1    200     150              any            4\n"
     ]
    }
   ],
   "source": [
    "import rpack\n",
    "from tkinter import *\n",
    "import pandas as pd\n",
    "from tkinter.ttk import *\n",
    "\n",
    "data = pd.read_csv(\"E:/SW-VLSI/Input-Dataset/tier_I/1_dataset2.csv\")\n",
    "print(data)"
   ]
  },
  {
   "cell_type": "code",
   "execution_count": 9,
   "metadata": {},
   "outputs": [
    {
     "name": "stdout",
     "output_type": "stream",
     "text": [
      "[(65, 91), (47, 80), (50, 110), (70, 113), (40, 30), (200, 150)]\n"
     ]
    }
   ],
   "source": [
    "list_w = list(data[\"Width\"])\n",
    "list_h = list(data[\"Height\"])\n",
    "sizes = []\n",
    "for i in range(len(list_w)):\n",
    "    sizes.append((list_w[i],list_h[i]))\n",
    "    \n",
    "print(sizes)\n",
    "\n",
    "\n"
   ]
  },
  {
   "cell_type": "code",
   "execution_count": 10,
   "metadata": {},
   "outputs": [
    {
     "data": {
      "text/plain": [
       "[(0, 0), (65, 0), (0, 91), (112, 0), (112, 113), (182, 0)]"
      ]
     },
     "execution_count": 10,
     "metadata": {},
     "output_type": "execute_result"
    }
   ],
   "source": [
    "b = '0'*len(sizes)\n",
    "num = int(b)\n",
    "Areas = {}\n",
    "Positions = {}\n",
    "Sizes = {}\n",
    "for i in range(2**len(sizes)):\n",
    "    temp = [list(i) for i in sizes]\n",
    "    s = bin(num)[2:].zfill(len(sizes))\n",
    "    for j in range(len(sizes)):\n",
    "        if s[j]=='1':\n",
    "            temp[j][1], temp[j][0] = temp[j][0], temp[j][1]\n",
    "    temp = [tuple(j) for j in temp]\n",
    "    positions = rpack.pack(temp)\n",
    "    t = rpack.enclosing_size(temp, positions)\n",
    "    Areas[s] = t[0]*t[1]\n",
    "    Positions[s] = positions\n",
    "    Sizes[s] = temp\n",
    "    num += 1\n",
    "mArea = min(Areas.values())\n",
    "for k, v in Areas.items():\n",
    "    if v==mArea:\n",
    "        positions = Positions[k]\n",
    "        sizes = Sizes[k]\n",
    "        break\n",
    "positions"
   ]
  },
  {
   "cell_type": "code",
   "execution_count": 11,
   "metadata": {},
   "outputs": [
    {
     "data": {
      "text/plain": [
       "[(0, 0), (65, 0), (0, 91), (112, 0), (112, 113), (182, 0)]"
      ]
     },
     "execution_count": 11,
     "metadata": {},
     "output_type": "execute_result"
    }
   ],
   "source": [
    "positions"
   ]
  },
  {
   "cell_type": "code",
   "execution_count": 12,
   "metadata": {},
   "outputs": [
    {
     "data": {
      "text/plain": [
       "[(65, 91), (47, 80), (110, 50), (70, 113), (40, 30), (200, 150)]"
      ]
     },
     "execution_count": 12,
     "metadata": {},
     "output_type": "execute_result"
    }
   ],
   "source": [
    "sizes"
   ]
  },
  {
   "cell_type": "code",
   "execution_count": 13,
   "metadata": {},
   "outputs": [],
   "source": [
    "cs = rpack.enclosing_size(sizes, positions)\n",
    "root  = Tk()\n",
    "a = sum(data['Width'])\n",
    "b = sum(data['Height'])\n",
    "root.geometry(str(b)+'x'+str(a))\n",
    "myCanvas = Canvas(root, bg=\"white\", height=cs[1]+50, width=cs[0]+50)\n",
    "myCanvas.create_rectangle(25, 25, cs[0]+25, cs[1]+25, outline = \"#636e72\", fill = \"#2d3436\", width = 5)\n",
    "for i in range(len(positions)):\n",
    "    myCanvas.create_rectangle(positions[i][0]+25, positions[i][1]+25, positions[i][0] + sizes[i][0]+25, positions[i][1] + sizes[i][1]+25, outline = \"#636e72\", fill = \"#ffeaa7\", width = 1)\n",
    "    mylabel = myCanvas.create_text((positions[i][0] + (sizes[i][0]/2)+25,positions[i][1] + (sizes[i][1]/2)+25), text=data[\"Block_Type\"][i].split(\"_\")[1])\n",
    "mylabel = myCanvas.create_text(cs[0]/2 + 25,cs[1]+40, text=\"Length =\" + str(cs[0]) + \"  Breadth=\" + str(cs[1]) + \" Area= \" + str(cs[0]*cs[1]) + \" mm^2\")\n",
    "myCanvas.pack()\n",
    "root.mainloop()"
   ]
  },
  {
   "cell_type": "code",
   "execution_count": null,
   "metadata": {},
   "outputs": [],
   "source": []
  },
  {
   "cell_type": "code",
   "execution_count": null,
   "metadata": {},
   "outputs": [],
   "source": []
  }
 ],
 "metadata": {
  "kernelspec": {
   "display_name": "Python 3",
   "language": "python",
   "name": "python3"
  },
  "language_info": {
   "codemirror_mode": {
    "name": "ipython",
    "version": 3
   },
   "file_extension": ".py",
   "mimetype": "text/x-python",
   "name": "python",
   "nbconvert_exporter": "python",
   "pygments_lexer": "ipython3",
   "version": "3.6.8"
  }
 },
 "nbformat": 4,
 "nbformat_minor": 2
}
